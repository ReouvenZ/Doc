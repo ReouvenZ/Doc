{
  "nbformat": 4,
  "nbformat_minor": 0,
  "metadata": {
    "colab": {
      "name": "Generators.ipynb",
      "provenance": [],
      "authorship_tag": "ABX9TyPNvtVwmrIiCW6uw7zJiZO6",
      "include_colab_link": true
    },
    "kernelspec": {
      "name": "python3",
      "display_name": "Python 3"
    },
    "language_info": {
      "name": "python"
    }
  },
  "cells": [
    {
      "cell_type": "markdown",
      "metadata": {
        "id": "view-in-github",
        "colab_type": "text"
      },
      "source": [
        "<a href=\"https://colab.research.google.com/github/ReouvenZ/Doc/blob/main/Generators.ipynb\" target=\"_parent\"><img src=\"https://colab.research.google.com/assets/colab-badge.svg\" alt=\"Open In Colab\"/></a>"
      ]
    },
    {
      "cell_type": "markdown",
      "metadata": {
        "id": "TKbxdJkQINyO"
      },
      "source": [
        "# Iterating\n",
        "\n"
      ]
    },
    {
      "cell_type": "code",
      "metadata": {
        "id": "w53yowsrIBxu"
      },
      "source": [
        "G = (n ** 2 for n in range(3))"
      ],
      "execution_count": null,
      "outputs": []
    },
    {
      "cell_type": "markdown",
      "metadata": {
        "id": "ugN70fJGIydW"
      },
      "source": [
        "Like any iterator, a generator can be exhausted. Try to run the cell below until you raise an error. You must run "
      ]
    },
    {
      "cell_type": "code",
      "metadata": {
        "colab": {
          "base_uri": "https://localhost:8080/",
          "height": 167
        },
        "id": "z7ihUyVnH-sF",
        "outputId": "a2803e35-55ac-4396-a3eb-c2842deedb93"
      },
      "source": [
        "print(next(G))"
      ],
      "execution_count": null,
      "outputs": [
        {
          "output_type": "error",
          "ename": "StopIteration",
          "evalue": "ignored",
          "traceback": [
            "\u001b[0;31m---------------------------------------------------------------------------\u001b[0m",
            "\u001b[0;31mStopIteration\u001b[0m                             Traceback (most recent call last)",
            "\u001b[0;32m<ipython-input-5-8e47901190b6>\u001b[0m in \u001b[0;36m<module>\u001b[0;34m()\u001b[0m\n\u001b[0;32m----> 1\u001b[0;31m \u001b[0mprint\u001b[0m\u001b[0;34m(\u001b[0m\u001b[0mnext\u001b[0m\u001b[0;34m(\u001b[0m\u001b[0mG\u001b[0m\u001b[0;34m)\u001b[0m\u001b[0;34m)\u001b[0m\u001b[0;34m\u001b[0m\u001b[0;34m\u001b[0m\u001b[0m\n\u001b[0m",
            "\u001b[0;31mStopIteration\u001b[0m: "
          ]
        }
      ]
    },
    {
      "cell_type": "markdown",
      "metadata": {
        "id": "UO3meieGDGKC"
      },
      "source": [
        "# Encapsulated genarators comprehension\n"
      ]
    },
    {
      "cell_type": "markdown",
      "metadata": {
        "id": "PlmR6HZEDbCo"
      },
      "source": [
        "In the code below, we generate any number that's not a multiple of 2, 3, 5 or 7. \n",
        "\n",
        "For every combination of *i* and each factor, we test using the `all` function that i modulo each factor > 0.\n"
      ]
    },
    {
      "cell_type": "code",
      "metadata": {
        "id": "lOy96SPQGzyw"
      },
      "source": [
        "from itertools import count"
      ],
      "execution_count": null,
      "outputs": []
    },
    {
      "cell_type": "code",
      "metadata": {
        "colab": {
          "base_uri": "https://localhost:8080/"
        },
        "id": "XFc-8vKBDFuq",
        "outputId": "7d378b38-18e8-4222-bd54-f17ccd9797f7"
      },
      "source": [
        "factors = [2, 3, 5, 7]\n",
        "G = (i for i in count() if all(i % n > 0 for n in factors))\n",
        "for val in G:\n",
        "    print(val, end=' ')\n",
        "    if val > 40: break"
      ],
      "execution_count": null,
      "outputs": [
        {
          "output_type": "stream",
          "name": "stdout",
          "text": [
            "1 11 13 17 19 23 29 31 37 41 "
          ]
        }
      ]
    },
    {
      "cell_type": "markdown",
      "metadata": {
        "id": "K_KadxelFiuc"
      },
      "source": [
        "# The `yield` statement"
      ]
    },
    {
      "cell_type": "markdown",
      "metadata": {
        "id": "EncDLbNQGpsE"
      },
      "source": [
        "A generator function is a function that, rather than using return to return a value once, uses `yield` to yield a (potentially infinite) sequence of values. Just as in generator expressions, the state of the generator is preserved between partial iterations, but if we want a fresh copy of the generator we can simply call the function again"
      ]
    },
    {
      "cell_type": "code",
      "metadata": {
        "colab": {
          "base_uri": "https://localhost:8080/"
        },
        "id": "vmC7HSShF8iy",
        "outputId": "430b9a90-2630-4e29-f606-442987ea3faf"
      },
      "source": [
        "G1 = (n ** 2 for n in range(12))\n",
        "\n",
        "def gen():\n",
        "    for n in range(12):\n",
        "        yield n ** 2\n",
        "\n",
        "G2 = gen()\n",
        "print(*G1)\n",
        "print(*G2)"
      ],
      "execution_count": null,
      "outputs": [
        {
          "output_type": "stream",
          "name": "stdout",
          "text": [
            "0 1 4 9 16 25 36 49 64 81 100 121\n",
            "0 1 4 9 16 25 36 49 64 81 100 121\n"
          ]
        }
      ]
    },
    {
      "cell_type": "code",
      "metadata": {
        "colab": {
          "base_uri": "https://localhost:8080/",
          "height": 202
        },
        "id": "nl7jWoUHdjo_",
        "outputId": "fa91d73a-9966-4627-9514-df3b87a535bc"
      },
      "source": [
        "def gen():  # defines a generator function\n",
        "    yield 123\n",
        "\n",
        "async def agen(): # defines an asynchronous generator function\n",
        "    yield 123\n"
      ],
      "execution_count": null,
      "outputs": [
        {
          "output_type": "error",
          "ename": "TypeError",
          "evalue": "ignored",
          "traceback": [
            "\u001b[0;31m---------------------------------------------------------------------------\u001b[0m",
            "\u001b[0;31mTypeError\u001b[0m                                 Traceback (most recent call last)",
            "\u001b[0;32m<ipython-input-42-5b328be6c2bb>\u001b[0m in \u001b[0;36m<module>\u001b[0;34m()\u001b[0m\n\u001b[1;32m      5\u001b[0m     \u001b[0;32myield\u001b[0m \u001b[0;36m123\u001b[0m\u001b[0;34m\u001b[0m\u001b[0;34m\u001b[0m\u001b[0m\n\u001b[1;32m      6\u001b[0m \u001b[0;34m\u001b[0m\u001b[0m\n\u001b[0;32m----> 7\u001b[0;31m \u001b[0mprint\u001b[0m\u001b[0;34m(\u001b[0m\u001b[0;34m*\u001b[0m\u001b[0magen\u001b[0m\u001b[0;34m(\u001b[0m\u001b[0;34m)\u001b[0m\u001b[0;34m)\u001b[0m\u001b[0;34m\u001b[0m\u001b[0;34m\u001b[0m\u001b[0m\n\u001b[0m",
            "\u001b[0;31mTypeError\u001b[0m: print() argument after * must be an iterable, not async_generator"
          ]
        }
      ]
    },
    {
      "cell_type": "markdown",
      "metadata": {
        "id": "gcQxydd3JxDC"
      },
      "source": [
        "# Sieve of Eratosthenes' algorithm *(tamis d'Erastothene)*\n",
        "\n"
      ]
    },
    {
      "cell_type": "markdown",
      "metadata": {
        "id": "GXHZ6nTcKLjZ"
      },
      "source": [
        "This algorithm generates prime numbers. We first begin by creating a list of candidates."
      ]
    },
    {
      "cell_type": "code",
      "metadata": {
        "colab": {
          "base_uri": "https://localhost:8080/"
        },
        "id": "9_gJ8yZjKKZ4",
        "outputId": "5d2d73b0-3624-4edd-ec1f-7872c6c16c6e"
      },
      "source": [
        "L = [n for n in range(2, 40)]\n",
        "print(L)"
      ],
      "execution_count": null,
      "outputs": [
        {
          "output_type": "stream",
          "name": "stdout",
          "text": [
            "[2, 3, 4, 5, 6, 7, 8, 9, 10, 11, 12, 13, 14, 15, 16, 17, 18, 19, 20, 21, 22, 23, 24, 25, 26, 27, 28, 29, 30, 31, 32, 33, 34, 35, 36, 37, 38, 39]\n"
          ]
        }
      ]
    },
    {
      "cell_type": "markdown",
      "metadata": {
        "id": "HVeSoLWBLCp7"
      },
      "source": [
        "We then remove all the multiples of the first value."
      ]
    },
    {
      "cell_type": "code",
      "metadata": {
        "colab": {
          "base_uri": "https://localhost:8080/"
        },
        "id": "T8-5n4jSLH7b",
        "outputId": "dae67d2d-5564-4e31-97da-2fb76829804f"
      },
      "source": [
        "L = [n for n in L if n == L[0] or n % L[0] > 0]\n",
        "print(L)"
      ],
      "execution_count": null,
      "outputs": [
        {
          "output_type": "stream",
          "name": "stdout",
          "text": [
            "[2, 3, 5, 7, 9, 11, 13, 15, 17, 19, 21, 23, 25, 27, 29, 31, 33, 35, 37, 39]\n"
          ]
        }
      ]
    },
    {
      "cell_type": "markdown",
      "metadata": {
        "id": "p-Thi1OFLm2d"
      },
      "source": [
        "We repeat the same logic for the second value."
      ]
    },
    {
      "cell_type": "code",
      "metadata": {
        "colab": {
          "base_uri": "https://localhost:8080/"
        },
        "id": "IDrmhrFGMOOV",
        "outputId": "bece97f7-904d-4b79-96cc-19cc32b96536"
      },
      "source": [
        "L = [n for n in L if n == L[1] or n % L[1] > 0]\n",
        "print(L)"
      ],
      "execution_count": null,
      "outputs": [
        {
          "output_type": "stream",
          "name": "stdout",
          "text": [
            "[2, 3, 5, 7, 11, 13, 17, 19, 23, 25, 29, 31, 35, 37]\n"
          ]
        }
      ]
    },
    {
      "cell_type": "markdown",
      "metadata": {
        "id": "G4KBuVtnKz7T"
      },
      "source": [
        "If we repeat this procedure enough times on a large enough list, we can generate as many primes as we wish.\n",
        "\n",
        "Let's encapsulate this logic in a generator function:"
      ]
    },
    {
      "cell_type": "code",
      "metadata": {
        "colab": {
          "base_uri": "https://localhost:8080/"
        },
        "id": "1YSN1vl1NIhs",
        "outputId": "2fc093d5-a499-4024-9f47-05efae18561a"
      },
      "source": [
        "def gen_primes(N):\n",
        "    \"\"\"Generate primes up to N\"\"\"\n",
        "    primes = []\n",
        "    for n in range(2, N):\n",
        "        if all(n % p > 0 for p in primes):\n",
        "            primes.append(n)\n",
        "            yield n\n",
        "\n",
        "print(*gen_primes(50))"
      ],
      "execution_count": null,
      "outputs": [
        {
          "output_type": "stream",
          "name": "stdout",
          "text": [
            "2 3 5 7 11 13 17 19 23 29 31 37 41 43 47\n"
          ]
        }
      ]
    },
    {
      "cell_type": "markdown",
      "metadata": {
        "id": "aGzGBhWBRpfR"
      },
      "source": [
        "We can obtain the same result by using the code below, but it is much less readable."
      ]
    },
    {
      "cell_type": "code",
      "metadata": {
        "colab": {
          "base_uri": "https://localhost:8080/"
        },
        "id": "wDtSq0zLMgeL",
        "outputId": "af0fc3a2-0877-45b5-f6e5-0fcecc43e8ce"
      },
      "source": [
        "primes = []\n",
        "gen_primes = ((n,primes.append(n))[0] for n in range(2,50) if all(n % p > 0 for p in primes))\n",
        "\n",
        "print(*gen_primes)"
      ],
      "execution_count": null,
      "outputs": [
        {
          "output_type": "stream",
          "name": "stdout",
          "text": [
            "2 3 5 7 11 13 17 19 23 29 31 37 41 43 47\n"
          ]
        }
      ]
    },
    {
      "cell_type": "markdown",
      "metadata": {
        "id": "8KvWz2kaR6AJ"
      },
      "source": [
        "Let's break it down. We're starting frome here  :"
      ]
    },
    {
      "cell_type": "code",
      "metadata": {
        "colab": {
          "base_uri": "https://localhost:8080/"
        },
        "id": "MeEW86y9SA7j",
        "outputId": "1c08d6bf-1906-46a5-fd0d-f3ad7f4e78f5"
      },
      "source": [
        "primes = []\n",
        "gen_primes = (n for n in range(2,50) if all(n % p > 0 for p in primes))\n",
        "\n",
        "print(*gen_primes)"
      ],
      "execution_count": null,
      "outputs": [
        {
          "output_type": "stream",
          "name": "stdout",
          "text": [
            "2 3 4 5 6 7 8 9 10 11 12 13 14 15 16 17 18 19 20 21 22 23 24 25 26 27 28 29 30 31 32 33 34 35 36 37 38 39 40 41 42 43 44 45 46 47 48 49\n"
          ]
        }
      ]
    },
    {
      "cell_type": "markdown",
      "metadata": {
        "id": "hcYCHadlSDrZ"
      },
      "source": [
        "It doesn't work because `primes` remains empty. We have to append it somehow."
      ]
    },
    {
      "cell_type": "code",
      "metadata": {
        "colab": {
          "base_uri": "https://localhost:8080/"
        },
        "id": "YSJeF1shStgx",
        "outputId": "9602b243-084e-4cec-bf6e-8178f8879449"
      },
      "source": [
        "primes = []\n",
        "gen_primes = ((n,primes.append(n)) for n in range(2,50) if all(n % p > 0 for p in primes))\n",
        "\n",
        "print(*gen_primes)"
      ],
      "execution_count": null,
      "outputs": [
        {
          "output_type": "stream",
          "name": "stdout",
          "text": [
            "(2, None) (3, None) (5, None) (7, None) (11, None) (13, None) (17, None) (19, None) (23, None) (29, None) (31, None) (37, None) (41, None) (43, None) (47, None)\n"
          ]
        }
      ]
    },
    {
      "cell_type": "markdown",
      "metadata": {
        "id": "1q48WjtiTMpD"
      },
      "source": [
        "Now, the generator is doing two things for every loop :\n",
        "- It yields n if the `all(n % p > 0 for p in primes)` is met\n",
        "- It appends n to the primes list\n",
        "\n",
        "As we just want to retrieve the first item, we have to use `[0]`, wich give us the code we first saw.\n"
      ]
    }
  ]
}